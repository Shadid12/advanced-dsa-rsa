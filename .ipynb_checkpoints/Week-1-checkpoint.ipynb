{
 "cells": [
  {
   "cell_type": "markdown",
   "id": "b843c0fa-81bb-4617-a0ea-f7b7e6397bca",
   "metadata": {},
   "source": [
    "### Extended GCD"
   ]
  },
  {
   "cell_type": "code",
   "execution_count": 1,
   "id": "5b73fb85-5959-4b94-ad18-f33f6807a2ee",
   "metadata": {},
   "outputs": [
    {
     "name": "stdout",
     "output_type": "stream",
     "text": [
      "GCD: 18, x: 4, y: -5\n"
     ]
    }
   ],
   "source": [
    "def extended_gcd(a, b):\n",
    "    if b == 0:\n",
    "        return a, 1, 0  # gcd(a, 0) = a, with coefficients (1, 0)\n",
    "\n",
    "    gcd, x1, y1 = extended_gcd(b, a % b)  # Recursive call\n",
    "\n",
    "    # Update coefficients\n",
    "    x = y1\n",
    "    y = x1 - (a // b) * y1\n",
    "\n",
    "    return gcd, x, y\n",
    "\n",
    "\n",
    "# -----------\n",
    "# Example usage\n",
    "a, b = 252, 198\n",
    "gcd, x, y = extended_gcd(a, b)\n",
    "print(f\"GCD: {gcd}, x: {x}, y: {y}\")\n"
   ]
  },
  {
   "cell_type": "code",
   "execution_count": null,
   "id": "460f9b5d-d681-4261-8f1b-4bb967b3c404",
   "metadata": {},
   "outputs": [],
   "source": []
  }
 ],
 "metadata": {
  "kernelspec": {
   "display_name": "Python 3 (ipykernel)",
   "language": "python",
   "name": "python3"
  },
  "language_info": {
   "codemirror_mode": {
    "name": "ipython",
    "version": 3
   },
   "file_extension": ".py",
   "mimetype": "text/x-python",
   "name": "python",
   "nbconvert_exporter": "python",
   "pygments_lexer": "ipython3",
   "version": "3.12.6"
  }
 },
 "nbformat": 4,
 "nbformat_minor": 5
}
