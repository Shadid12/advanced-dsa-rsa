{
 "cells": [
  {
   "cell_type": "markdown",
   "id": "4d42c507-ba53-49c4-b4b4-c6e50cb8b44d",
   "metadata": {},
   "source": [
    "## Brute Force Algorithm to Find Smaller Factor"
   ]
  },
  {
   "cell_type": "code",
   "execution_count": 4,
   "id": "ce017afc-ff7e-4c96-80a3-61d3cc4d7e64",
   "metadata": {},
   "outputs": [
    {
     "name": "stdout",
     "output_type": "stream",
     "text": [
      "3\n"
     ]
    }
   ],
   "source": [
    "def find_smaller_factor(n):\n",
    "    for i in range(2, n):\n",
    "        if n % i == 0:\n",
    "            return i\n",
    "    return None\n",
    "\n",
    "\n",
    "k = find_smaller_factor(15)\n",
    "print(k)"
   ]
  },
  {
   "cell_type": "code",
   "execution_count": null,
   "id": "a2546e84-b55e-4a9b-86dc-dcf2c5ed475b",
   "metadata": {},
   "outputs": [],
   "source": [
    "def count_calls(f):\n",
    "    def inner_fun(*args, **kwargs):\n",
    "        inner_fun.num_calls += 1\n",
    "        return f(*args, **kwargs)\n",
    "    inner_fun.num_calls = 0\n",
    "    return inner_fun\n",
    "\n",
    "@count_calls\n",
    "def is_divisible(n, i):\n",
    "    if n % i == 0:\n",
    "        return True\n",
    "    else: \n",
    "        return False \n",
    "\n",
    "def find_smaller_factor_improved(n):\n",
    "    # check if divisible by 2\n",
    "    if is_divisible(n, 2):\n",
    "        print('Divisible by 2')\n",
    "        return 2\n",
    "    # check if divisible by 3\n",
    "    if is_divisible(n, 3):\n",
    "        print('Divisible by 3')\n",
    "        return 3\n",
    "    # check if divisible by 5\n",
    "    if is_divisible(n, 5):\n",
    "        print('Divisible by 5')\n",
    "        return 5\n",
    "    # check if divisible by 7\n",
    "    if is_divisible(n, 7):\n",
    "        print('Divisible by 7')\n",
    "        return 7\n",
    "\n",
    "    # Let's start our search for factors at i = 11\n",
    "    i = 11\n",
    "    # We will sieve using primes 3, 5, 7. In other words factors of these numbers will be \"skipped\"\n",
    "    primes = [3, 5, 7] \n",
    "    mod_values = [ i % p for p in primes] # compute i mod p for each p in the list of prime numbers above\n",
    "    print(f'Mod Values -->', mod_values)\n",
    "\n",
    "    while i < n:\n",
    "        i = i + 2\n",
    "        for j in range(len(primes)):\n",
    "            mod_values[j] = (mod_values[j] + 2) % primes[j]\n",
    "\n",
    "        # If all mod_values are non-zero, check if i divides n\n",
    "        if all(value != 0 for value in mod_values):\n",
    "            if n % i == 0:\n",
    "                return i\n",
    "    return None\n",
    "\n",
    "j = find_smaller_factor_improved(21)\n",
    "print(j)"
   ]
  },
  {
   "cell_type": "code",
   "execution_count": 11,
   "id": "e69672c4-5ba6-48ed-80d5-93599af8195a",
   "metadata": {},
   "outputs": [
    {
     "name": "stdout",
     "output_type": "stream",
     "text": [
      "Mod Values --> [2, 1, 4]\n"
     ]
    }
   ],
   "source": []
  },
  {
   "cell_type": "code",
   "execution_count": null,
   "id": "17c82e08-84b2-4671-b3ea-ef667859473a",
   "metadata": {},
   "outputs": [],
   "source": []
  }
 ],
 "metadata": {
  "kernelspec": {
   "display_name": "Python 3 (ipykernel)",
   "language": "python",
   "name": "python3"
  },
  "language_info": {
   "codemirror_mode": {
    "name": "ipython",
    "version": 3
   },
   "file_extension": ".py",
   "mimetype": "text/x-python",
   "name": "python",
   "nbconvert_exporter": "python",
   "pygments_lexer": "ipython3",
   "version": "3.12.6"
  }
 },
 "nbformat": 4,
 "nbformat_minor": 5
}
