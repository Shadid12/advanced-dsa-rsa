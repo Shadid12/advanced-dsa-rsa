{
 "cells": [
  {
   "cell_type": "code",
   "execution_count": 1,
   "id": "3dec5f64-bdd4-4e42-bee5-6512cef64398",
   "metadata": {},
   "outputs": [
    {
     "name": "stdout",
     "output_type": "stream",
     "text": [
      "Input bits: [1, 0, 1]\n",
      "Result bit (after XOR with f(b)): 1\n"
     ]
    }
   ],
   "source": [
    "# Define the classical Boolean function f\n",
    "def f(b):\n",
    "    # Example function that checks if the bitstring is \"101\" (or any specific condition)\n",
    "    # You can change this to any function\n",
    "    target = [1, 0, 1]  # Unique solution (b1=1, b2=0, b3=1)\n",
    "    return int(b == target)\n",
    "\n",
    "# Define the classical oracle function Qf\n",
    "def oracle(b, r):\n",
    "    \"\"\"\n",
    "    b: List of input bits [b1, b2, ..., bn]\n",
    "    r: Result bit (0 or 1)\n",
    "    \n",
    "    Returns: \n",
    "    - unchanged input bits\n",
    "    - result bit XOR f(b)\n",
    "    \"\"\"\n",
    "    # Compute the function f(b)\n",
    "    f_value = f(b)\n",
    "    \n",
    "    # XOR the result bit with f(b)\n",
    "    r_new = r ^ f_value\n",
    "    \n",
    "    return b, r_new\n",
    "\n",
    "# Example usage\n",
    "b_input = [1, 0, 1]  # Input bitstring\n",
    "result_bit = 0       # Initial result bit\n",
    "\n",
    "# Apply the oracle function\n",
    "b_output, result_output = oracle(b_input, result_bit)\n",
    "\n",
    "print(f\"Input bits: {b_output}\")\n",
    "print(f\"Result bit (after XOR with f(b)): {result_output}\")\n"
   ]
  },
  {
   "cell_type": "code",
   "execution_count": 6,
   "id": "d4d9036b-109a-4ca7-ac07-3d84862a42d5",
   "metadata": {},
   "outputs": [
    {
     "name": "stdout",
     "output_type": "stream",
     "text": [
      "Input bits: [1, 0, 1]\n",
      "Result bit (after XOR with f(b)): 3\n"
     ]
    }
   ],
   "source": [
    "b_output, result_output = oracle([1, 0, 1], 2)\n",
    "\n",
    "print(f\"Input bits: {b_output}\")\n",
    "print(f\"Result bit (after XOR with f(b)): {result_output}\")"
   ]
  },
  {
   "cell_type": "code",
   "execution_count": null,
   "id": "5283d5c3-38d2-4b78-8ec1-82cf784f7e84",
   "metadata": {},
   "outputs": [],
   "source": []
  }
 ],
 "metadata": {
  "kernelspec": {
   "display_name": "Python 3 (ipykernel)",
   "language": "python",
   "name": "python3"
  },
  "language_info": {
   "codemirror_mode": {
    "name": "ipython",
    "version": 3
   },
   "file_extension": ".py",
   "mimetype": "text/x-python",
   "name": "python",
   "nbconvert_exporter": "python",
   "pygments_lexer": "ipython3",
   "version": "3.12.6"
  }
 },
 "nbformat": 4,
 "nbformat_minor": 5
}
