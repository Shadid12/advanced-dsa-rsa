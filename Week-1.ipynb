{
 "cells": [
  {
   "cell_type": "markdown",
   "id": "b843c0fa-81bb-4617-a0ea-f7b7e6397bca",
   "metadata": {},
   "source": [
    "### Extended GCD (Bezout Coefficient)"
   ]
  },
  {
   "cell_type": "code",
   "execution_count": 2,
   "id": "5b73fb85-5959-4b94-ad18-f33f6807a2ee",
   "metadata": {},
   "outputs": [
    {
     "name": "stdout",
     "output_type": "stream",
     "text": [
      "GCD: 1, x: 7, y: -4\n"
     ]
    }
   ],
   "source": [
    "def extended_gcd(a, b):\n",
    "    if b == 0:\n",
    "        return a, 1, 0  # gcd(a, 0) = a, with coefficients (1, 0)\n",
    "\n",
    "    gcd, x1, y1 = extended_gcd(b, a % b)  # Recursive call\n",
    "\n",
    "    # Update coefficients\n",
    "    x = y1\n",
    "    y = x1 - (a // b) * y1\n",
    "\n",
    "    return gcd, x, y\n",
    "\n",
    "\n",
    "# -----------\n",
    "# Example usage\n",
    "a, b = 11, 19\n",
    "gcd, x, y = extended_gcd(a, b)\n",
    "print(f\"GCD: {gcd}, x: {x}, y: {y}\")\n"
   ]
  },
  {
   "cell_type": "markdown",
   "id": "68af58a2-2fc3-4515-8852-999b885c2ad0",
   "metadata": {},
   "source": [
    "### Message Encode and Decode"
   ]
  },
  {
   "cell_type": "code",
   "execution_count": 3,
   "id": "08dcbe7f-f1b9-45bc-a101-4a5441b39b08",
   "metadata": {},
   "outputs": [
    {
     "name": "stdout",
     "output_type": "stream",
     "text": [
      "8404957845\n",
      "7776548846\n",
      "191360744\n",
      "8813990599\n",
      "176922693\n",
      "192316710\n",
      "8812885672\n",
      "6973901834\n",
      "7158215288\n",
      "279932690\n",
      "2\n"
     ]
    },
    {
     "data": {
      "text/plain": [
       "'Hello, this is a message that needs to be encoded!!'"
      ]
     },
     "execution_count": 3,
     "metadata": {},
     "output_type": "execute_result"
    }
   ],
   "source": [
    "def convert_string_to_numbers(s, q=101 ):\n",
    "    lst = [*s] # unpack string into a list\n",
    "    n = len(lst)\n",
    "    r = 0 if n%5 == 0 else 5 - (n%5)\n",
    "    # chr(31) is a null character that we use to pad the message to make its size a multiple of the block length (5)\n",
    "    lst += [chr(31)]*r # pad it with a special character ascii 31\n",
    "    n = len(lst)\n",
    "    \n",
    "    msg = []\n",
    "    # run through the characters 5 at a time\n",
    "    for i in range(0, n, 5):\n",
    "        block = lst[i:i+5]\n",
    "        c = [ord(k)-31 for k in block] # subtract 31 from ascii values\n",
    "        m = 0\n",
    "        for i in range(4, -1, -1): # convert from base-q to decimal\n",
    "            m = m * q + c[i]\n",
    "        msg.append(m) # append number to message\n",
    "    return msg\n",
    "\n",
    "\n",
    "msg = convert_string_to_numbers('Hello, this is a message that needs to be encoded!!')\n",
    "for j in msg:\n",
    "    print(j)\n",
    "\n",
    "\n",
    "def convert_numbers_to_strings(msg, q=101 ):\n",
    "    n = len(msg)\n",
    "    assert n > 0, 'Nonempty list of numbers required'\n",
    "    blk_len = 5 # hard coded block length\n",
    "    codes = []\n",
    "    for k in msg: # each number is a decimal representation of a 5 digit base q number\n",
    "        for i in range(5): # convert it back into base q\n",
    "            r = k%q\n",
    "            if r >= 1:\n",
    "                codes.append(chr(r + 31)) # convert from ascii back into character but add 31\n",
    "            k = k//q\n",
    "    # convert from sequence of chars back into a string\n",
    "    return ''.join(codes)\n",
    "\n",
    "convert_numbers_to_strings(msg)"
   ]
  },
  {
   "cell_type": "markdown",
   "id": "709f11a3-6211-415d-a7a2-b89af34da744",
   "metadata": {},
   "source": [
    "### Encrypt and Decrypt"
   ]
  },
  {
   "cell_type": "code",
   "execution_count": 4,
   "id": "5b1a878e-118f-461b-abb2-3006fba7e2fb",
   "metadata": {},
   "outputs": [
    {
     "data": {
      "text/plain": [
       "58"
      ]
     },
     "execution_count": 4,
     "metadata": {},
     "output_type": "execute_result"
    }
   ],
   "source": [
    "def encrypt_naive(M, e, n):\n",
    "    p = 1\n",
    "    for i in range(e):\n",
    "        p = (p * M) % n\n",
    "    return p\n",
    "\n",
    "encrypt_naive(9, 13, 77) # encrypt 9 with the public key"
   ]
  },
  {
   "cell_type": "code",
   "execution_count": 5,
   "id": "9c2dd82e-ff6a-44c3-b530-3f7681430e2f",
   "metadata": {},
   "outputs": [
    {
     "data": {
      "text/plain": [
       "9"
      ]
     },
     "execution_count": 5,
     "metadata": {},
     "output_type": "execute_result"
    }
   ],
   "source": [
    "encrypt_naive(58, 37, 77)"
   ]
  },
  {
   "cell_type": "markdown",
   "id": "ecb83fa7-b247-4a69-9348-ba790029a088",
   "metadata": {},
   "source": [
    "Generating the public and private key is the trick here. "
   ]
  },
  {
   "cell_type": "code",
   "execution_count": 6,
   "id": "657fda29-5897-4c4a-841b-929efe4b6035",
   "metadata": {},
   "outputs": [
    {
     "data": {
      "text/plain": [
       "(91, 5, 29)"
      ]
     },
     "execution_count": 6,
     "metadata": {},
     "output_type": "execute_result"
    }
   ],
   "source": [
    "def generate_rsa_keys(p, q):\n",
    "    assert p < q\n",
    "    n = p * q\n",
    "    phi = (p-1)*(q-1)\n",
    "    e = None\n",
    "    d = None\n",
    "    for e in range(p//3, p):\n",
    "        (i, s, t) = extended_gcd(phi, e)\n",
    "        if i == 1:\n",
    "            if t < 0:\n",
    "                d = phi + t\n",
    "            else:\n",
    "                d = t\n",
    "            break\n",
    "    return (n, e, d)\n",
    "\n",
    "generate_rsa_keys(7, 13)"
   ]
  },
  {
   "cell_type": "code",
   "execution_count": 7,
   "id": "a4126279-f7cc-4c17-95af-f8fb066eeaeb",
   "metadata": {},
   "outputs": [
    {
     "name": "stdout",
     "output_type": "stream",
     "text": [
      "643654854763\n",
      "245071\n",
      "478235009071\n"
     ]
    }
   ],
   "source": [
    "(n, e, d) = generate_rsa_keys(735193, 875491)\n",
    "print(n)\n",
    "print(e)\n",
    "print(d)"
   ]
  },
  {
   "cell_type": "code",
   "execution_count": 8,
   "id": "1ef5eb8a-5d67-42a5-8e19-82d408aee0af",
   "metadata": {},
   "outputs": [
    {
     "name": "stdout",
     "output_type": "stream",
     "text": [
      "Original message:\n",
      "[8404957845, 7597868130, 8846887309, 9434293021, 7365416113, 7574504983, 8707796306, 2089659]\n",
      "Public Key: (245071, 643654854763)\n",
      "RSA encoded\n",
      "[46264071735, 544973177667, 185197985834, 152593409466, 416635991589, 482835244299, 65259378513, 220105851236]\n"
     ]
    }
   ],
   "source": [
    "def rsa_encode(msg_list, e, n):\n",
    "    rsa_lst = [encrypt_naive(M, e, n) for M in msg_list]\n",
    "    return rsa_lst\n",
    "\n",
    "\n",
    "orig_msg = convert_string_to_numbers('Hello, I have to say something secret!!')\n",
    "print('Original message:')\n",
    "print(orig_msg)\n",
    "print(f'Public Key: {e, n}')\n",
    "msg_rsa = rsa_encode(orig_msg, e, n)\n",
    "print('RSA encoded')\n",
    "print(msg_rsa)"
   ]
  },
  {
   "cell_type": "code",
   "execution_count": 9,
   "id": "04cb237f-9b3e-4dc7-8e2c-358254a711ea",
   "metadata": {},
   "outputs": [
    {
     "name": "stdout",
     "output_type": "stream",
     "text": [
      "RSA encoded string is\n"
     ]
    },
    {
     "data": {
      "text/plain": [
       "\"2cLZG>>['u)FAg]=`aFS]ann_98,\\x7f}T(*,4r_X0~\""
      ]
     },
     "execution_count": 9,
     "metadata": {},
     "output_type": "execute_result"
    }
   ],
   "source": [
    "# If we tried to read the encrypted message, we get junk back.\n",
    "print('RSA encoded string is')\n",
    "convert_numbers_to_strings(msg_rsa)"
   ]
  },
  {
   "cell_type": "code",
   "execution_count": 10,
   "id": "606617f6-9d3f-4956-be44-e4a9063e92c6",
   "metadata": {},
   "outputs": [
    {
     "ename": "KeyboardInterrupt",
     "evalue": "",
     "output_type": "error",
     "traceback": [
      "\u001b[0;31m---------------------------------------------------------------------------\u001b[0m",
      "\u001b[0;31mKeyboardInterrupt\u001b[0m                         Traceback (most recent call last)",
      "Cell \u001b[0;32mIn[10], line 1\u001b[0m\n\u001b[0;32m----> 1\u001b[0m msg_decode \u001b[38;5;241m=\u001b[39m \u001b[43mrsa_encode\u001b[49m\u001b[43m(\u001b[49m\u001b[43mmsg_rsa\u001b[49m\u001b[43m,\u001b[49m\u001b[43m \u001b[49m\u001b[43md\u001b[49m\u001b[43m,\u001b[49m\u001b[43m \u001b[49m\u001b[43mn\u001b[49m\u001b[43m)\u001b[49m\n\u001b[1;32m      2\u001b[0m \u001b[38;5;28mprint\u001b[39m(\u001b[38;5;124m'\u001b[39m\u001b[38;5;124mDecrypted message\u001b[39m\u001b[38;5;124m'\u001b[39m)\n\u001b[1;32m      3\u001b[0m \u001b[38;5;28mprint\u001b[39m(msg_decode)\n",
      "Cell \u001b[0;32mIn[8], line 2\u001b[0m, in \u001b[0;36mrsa_encode\u001b[0;34m(msg_list, e, n)\u001b[0m\n\u001b[1;32m      1\u001b[0m \u001b[38;5;28;01mdef\u001b[39;00m \u001b[38;5;21mrsa_encode\u001b[39m(msg_list, e, n):\n\u001b[0;32m----> 2\u001b[0m     rsa_lst \u001b[38;5;241m=\u001b[39m [\u001b[43mencrypt_naive\u001b[49m\u001b[43m(\u001b[49m\u001b[43mM\u001b[49m\u001b[43m,\u001b[49m\u001b[43m \u001b[49m\u001b[43me\u001b[49m\u001b[43m,\u001b[49m\u001b[43m \u001b[49m\u001b[43mn\u001b[49m\u001b[43m)\u001b[49m \u001b[38;5;28;01mfor\u001b[39;00m M \u001b[38;5;129;01min\u001b[39;00m msg_list]\n\u001b[1;32m      3\u001b[0m     \u001b[38;5;28;01mreturn\u001b[39;00m rsa_lst\n",
      "Cell \u001b[0;32mIn[4], line 4\u001b[0m, in \u001b[0;36mencrypt_naive\u001b[0;34m(M, e, n)\u001b[0m\n\u001b[1;32m      2\u001b[0m p \u001b[38;5;241m=\u001b[39m \u001b[38;5;241m1\u001b[39m\n\u001b[1;32m      3\u001b[0m \u001b[38;5;28;01mfor\u001b[39;00m i \u001b[38;5;129;01min\u001b[39;00m \u001b[38;5;28mrange\u001b[39m(e):\n\u001b[0;32m----> 4\u001b[0m     p \u001b[38;5;241m=\u001b[39m (\u001b[43mp\u001b[49m\u001b[43m \u001b[49m\u001b[38;5;241;43m*\u001b[39;49m\u001b[43m \u001b[49m\u001b[43mM\u001b[49m) \u001b[38;5;241m%\u001b[39m n\n\u001b[1;32m      5\u001b[0m \u001b[38;5;28;01mreturn\u001b[39;00m p\n",
      "\u001b[0;31mKeyboardInterrupt\u001b[0m: "
     ]
    }
   ],
   "source": [
    "msg_decode = rsa_encode(msg_rsa, d, n)\n",
    "print('Decrypted message')\n",
    "print(msg_decode)\n",
    "# convert_numbers_to_strings(msg_decode)"
   ]
  },
  {
   "cell_type": "code",
   "execution_count": null,
   "id": "b25d4b75-26c4-4a20-a975-254ab6e1d02b",
   "metadata": {},
   "outputs": [],
   "source": []
  },
  {
   "cell_type": "code",
   "execution_count": null,
   "id": "6333e893-21bd-49cb-af4a-7f22d0bca7c9",
   "metadata": {},
   "outputs": [],
   "source": []
  }
 ],
 "metadata": {
  "kernelspec": {
   "display_name": "Python 3 (ipykernel)",
   "language": "python",
   "name": "python3"
  },
  "language_info": {
   "codemirror_mode": {
    "name": "ipython",
    "version": 3
   },
   "file_extension": ".py",
   "mimetype": "text/x-python",
   "name": "python",
   "nbconvert_exporter": "python",
   "pygments_lexer": "ipython3",
   "version": "3.12.6"
  }
 },
 "nbformat": 4,
 "nbformat_minor": 5
}
