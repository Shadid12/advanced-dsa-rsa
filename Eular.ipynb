{
 "cells": [
  {
   "cell_type": "markdown",
   "id": "14e5f6d4-5d72-4e36-87a6-99d9087e60f4",
   "metadata": {},
   "source": [
    "## Euler's Totient Function"
   ]
  },
  {
   "cell_type": "code",
   "execution_count": null,
   "id": "e69a5b4b-6247-45ee-9fce-48e50f0f2890",
   "metadata": {},
   "outputs": [],
   "source": []
  }
 ],
 "metadata": {
  "kernelspec": {
   "display_name": "Python 3 (ipykernel)",
   "language": "python",
   "name": "python3"
  },
  "language_info": {
   "codemirror_mode": {
    "name": "ipython",
    "version": 3
   },
   "file_extension": ".py",
   "mimetype": "text/x-python",
   "name": "python",
   "nbconvert_exporter": "python",
   "pygments_lexer": "ipython3",
   "version": "3.12.6"
  }
 },
 "nbformat": 4,
 "nbformat_minor": 5
}
